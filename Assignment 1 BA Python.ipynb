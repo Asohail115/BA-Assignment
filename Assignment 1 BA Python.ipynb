{
 "cells": [
  {
   "cell_type": "code",
   "execution_count": 46,
   "id": "e402d213",
   "metadata": {},
   "outputs": [
    {
     "name": "stdout",
     "output_type": "stream",
     "text": [
      "1505\n",
      "1540\n",
      "1575\n",
      "1610\n",
      "1645\n",
      "1680\n",
      "1715\n",
      "1750\n",
      "1785\n",
      "1820\n",
      "1855\n",
      "1890\n",
      "1925\n",
      "1960\n",
      "1995\n",
      "2030\n",
      "2065\n",
      "2100\n",
      "2135\n",
      "2170\n",
      "2205\n",
      "2240\n",
      "2275\n",
      "2310\n",
      "2345\n",
      "2380\n",
      "2415\n",
      "2450\n",
      "2485\n",
      "2520\n",
      "2555\n",
      "2590\n",
      "2625\n",
      "2660\n",
      "2695\n"
     ]
    }
   ],
   "source": [
    "for i in range(1500,2701):\n",
    "    if i%7==0 and i%5==0:\n",
    "        print(i)"
   ]
  },
  {
   "cell_type": "code",
   "execution_count": 13,
   "id": "58f1b9e8",
   "metadata": {},
   "outputs": [],
   "source": [
    "def two_add(a,b):\n",
    "    c=a+b\n",
    "    return c"
   ]
  },
  {
   "cell_type": "code",
   "execution_count": 14,
   "id": "4b5edb16",
   "metadata": {},
   "outputs": [
    {
     "data": {
      "text/plain": [
       "10"
      ]
     },
     "execution_count": 14,
     "metadata": {},
     "output_type": "execute_result"
    }
   ],
   "source": [
    "two_add(6,4)"
   ]
  },
  {
   "cell_type": "code",
   "execution_count": 10,
   "id": "921926e0",
   "metadata": {},
   "outputs": [],
   "source": [
    "def max_two_no(a,b):\n",
    "    if a>b:\n",
    "        return a\n",
    "    else:\n",
    "        return b"
   ]
  },
  {
   "cell_type": "code",
   "execution_count": 12,
   "id": "28bc4126",
   "metadata": {},
   "outputs": [
    {
     "data": {
      "text/plain": [
       "18"
      ]
     },
     "execution_count": 12,
     "metadata": {},
     "output_type": "execute_result"
    }
   ],
   "source": [
    "max_two_no(18,9)"
   ]
  },
  {
   "cell_type": "code",
   "execution_count": 45,
   "id": "adfe89a3",
   "metadata": {},
   "outputs": [
    {
     "name": "stdout",
     "output_type": "stream",
     "text": [
      "enter a number4\n",
      "the factorial of 4 is 24\n"
     ]
    }
   ],
   "source": [
    "num=int(input(\"enter a number\"))\n",
    "fact=1\n",
    "if num<0:\n",
    "    print('factorial does not exist for negative number')\n",
    "elif num==0:\n",
    "    print('The factorial of 0 is 1')\n",
    "else:\n",
    "    for i in range(1,num+1):\n",
    "        fact=fact*i\n",
    "    print(\"the factorial of\",num,\"is\",fact)"
   ]
  },
  {
   "cell_type": "code",
   "execution_count": 47,
   "id": "29dded40",
   "metadata": {},
   "outputs": [],
   "source": [
    "def SI(p,r,t):\n",
    "    si=p*r*t\n",
    "    return si"
   ]
  },
  {
   "cell_type": "code",
   "execution_count": 49,
   "id": "c26c3c4a",
   "metadata": {},
   "outputs": [
    {
     "data": {
      "text/plain": [
       "24"
      ]
     },
     "execution_count": 49,
     "metadata": {},
     "output_type": "execute_result"
    }
   ],
   "source": [
    "SI(2,3,4)"
   ]
  },
  {
   "cell_type": "code",
   "execution_count": 3,
   "id": "3ba3eff5",
   "metadata": {},
   "outputs": [],
   "source": [
    "def CI(p,r,t):\n",
    "    A=p*(pow((1+r/100),t))\n",
    "    return A"
   ]
  },
  {
   "cell_type": "code",
   "execution_count": 4,
   "id": "39942605",
   "metadata": {},
   "outputs": [
    {
     "data": {
      "text/plain": [
       "2.08"
      ]
     },
     "execution_count": 4,
     "metadata": {},
     "output_type": "execute_result"
    }
   ],
   "source": [
    "CI(2,4,1)"
   ]
  },
  {
   "cell_type": "code",
   "execution_count": 19,
   "id": "5fe0b492",
   "metadata": {},
   "outputs": [
    {
     "name": "stdout",
     "output_type": "stream",
     "text": [
      "enter a number:407\n",
      "407 is an armstrong number\n"
     ]
    }
   ],
   "source": [
    "num=int(input(\"enter a number:\"))\n",
    "sum=0\n",
    "temp=num\n",
    "while temp>0:\n",
    "    digit=temp%10\n",
    "    sum=sum+digit**3\n",
    "    temp=temp//10\n",
    "    \n",
    "if num==sum:\n",
    "    print(num,\"is an armstrong number\")\n",
    "else:\n",
    "    print(num,\"is not an armstrong num\")\n",
    "    "
   ]
  },
  {
   "cell_type": "code",
   "execution_count": 9,
   "id": "ca850239",
   "metadata": {},
   "outputs": [
    {
     "name": "stdout",
     "output_type": "stream",
     "text": [
      "enter the value of radius2\n",
      "90.8\n"
     ]
    }
   ],
   "source": [
    "r=int(input(\"enter the value of radius\"))\n",
    "pi=22.7\n",
    "a=pi*r*r\n",
    "print(a)"
   ]
  },
  {
   "cell_type": "code",
   "execution_count": 17,
   "id": "101bf520",
   "metadata": {},
   "outputs": [
    {
     "name": "stdout",
     "output_type": "stream",
     "text": [
      "enter any Number4\n",
      "4 is not a prime number\n"
     ]
    }
   ],
   "source": [
    "n=int(input(\"enter any Number\"))\n",
    "if n>1:\n",
    "    for i in range(2,n):\n",
    "        if(n%i==0):\n",
    "            print(n,\"is not a prime number\")\n",
    "            break\n",
    "    else:\n",
    "        print(n,\"is a prime number\")\n",
    "        \n",
    "else:\n",
    "    print(n,\"is not a prime number\")"
   ]
  },
  {
   "cell_type": "code",
   "execution_count": null,
   "id": "793f3c15",
   "metadata": {},
   "outputs": [],
   "source": []
  }
 ],
 "metadata": {
  "kernelspec": {
   "display_name": "Python 3 (ipykernel)",
   "language": "python",
   "name": "python3"
  },
  "language_info": {
   "codemirror_mode": {
    "name": "ipython",
    "version": 3
   },
   "file_extension": ".py",
   "mimetype": "text/x-python",
   "name": "python",
   "nbconvert_exporter": "python",
   "pygments_lexer": "ipython3",
   "version": "3.9.7"
  }
 },
 "nbformat": 4,
 "nbformat_minor": 5
}
